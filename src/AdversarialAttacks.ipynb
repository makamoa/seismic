{
 "cells": [
  {
   "cell_type": "code",
   "execution_count": 2,
   "metadata": {},
   "outputs": [],
   "source": [
    "import os\n",
    "import glob\n",
    "import torch\n",
    "import numpy as np\n",
    "from skimage import io, transform\n",
    "import torch.nn as nn\n",
    "from torchvision import transforms\n",
    "from torchvision.utils import make_grid\n",
    "from torch.utils.data import Dataset, DataLoader, random_split\n",
    "import matplotlib.pyplot as plt\n",
    "import numpy as np\n",
    "from torchsummary import summary\n",
    "from torch.utils.tensorboard import SummaryWriter\n",
    "import warnings\n",
    "warnings.filterwarnings(\"ignore\")\n",
    "import sys\n",
    "sys.path.append(\"../src/models/\")\n",
    "from swin import BaseSwinUnet\n",
    "from restormer import BaseRestormer\n",
    "from bunet import BaseUnet"
   ]
  },
  {
   "cell_type": "code",
   "execution_count": 3,
   "metadata": {},
   "outputs": [],
   "source": [
    "def build_model(model, problem):\n",
    "    if model == 'restormer':\n",
    "        if problem == 'deraining':\n",
    "            model = BaseRestormer(inp_channels=3, out_channels=3, dim=24)\n",
    "        elif problem == 'denoise':\n",
    "            model = BaseRestormer(inp_channels=1, out_channels=1, dim=24, activation='tanh')\n",
    "        elif problem == 'firstbreak':\n",
    "            model = BaseRestormer(inp_channels=1, out_channels=2, dim=24)\n",
    "        else:\n",
    "            raise ValueError('Undefined problem!')\n",
    "    elif model == 'swin':\n",
    "        if problem == 'deraining':\n",
    "            model = BaseSwinUnet(in_chans=3, num_classes=3, embed_dim=48)\n",
    "        elif problem == 'denoise':\n",
    "            model = BaseSwinUnet(in_chans=1, num_classes=1, embed_dim=48, activation='tanh')\n",
    "        elif problem == 'firstbreak':\n",
    "            model = BaseSwinUnet(in_chans=1, num_classes=2, embed_dim=48)\n",
    "        else:\n",
    "            raise ValueError('Undefined problem!')\n",
    "    elif model == 'unet':\n",
    "        if problem == 'deraining':\n",
    "            model = BaseUnet(in_channels=3, out_channels=3)\n",
    "        elif problem == 'denoise':\n",
    "            model = BaseUnet(in_channels=1, out_channels=1, activation='tanh')\n",
    "        elif problem == 'firstbreak':\n",
    "            model = BaseUnet(in_channels=1, out_channels=2)\n",
    "        else:\n",
    "            raise ValueError('Undefined problem!')\n",
    "    else:\n",
    "        raise ValueError('Undefined model!')\n",
    "    return model"
   ]
  },
  {
   "cell_type": "code",
   "execution_count": 6,
   "metadata": {},
   "outputs": [],
   "source": [
    "model_type='unet'\n",
    "problem='firstbreak'\n",
    "noise_type = 0\n",
    "noise_scale = 0.25\n",
    "prefix=''"
   ]
  },
  {
   "cell_type": "code",
   "execution_count": null,
   "metadata": {},
   "outputs": [],
   "source": []
  }
 ],
 "metadata": {
  "kernelspec": {
   "display_name": "transformer-new",
   "language": "python",
   "name": "transformer-new"
  },
  "language_info": {
   "codemirror_mode": {
    "name": "ipython",
    "version": 3
   },
   "file_extension": ".py",
   "mimetype": "text/x-python",
   "name": "python",
   "nbconvert_exporter": "python",
   "pygments_lexer": "ipython3",
   "version": "3.9.12"
  }
 },
 "nbformat": 4,
 "nbformat_minor": 4
}
